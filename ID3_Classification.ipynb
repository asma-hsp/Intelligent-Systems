{
 "cells": [
  {
   "cell_type": "code",
   "execution_count": 2,
   "metadata": {},
   "outputs": [],
   "source": [
    "import pandas as pd\n",
    "import numpy as np"
   ]
  },
  {
   "cell_type": "code",
   "execution_count": 3,
   "metadata": {},
   "outputs": [],
   "source": [
    "df = pd.read_csv('/home/asma/Documents/Intelligent Systems/Home Works/prison_dataset.csv')"
   ]
  },
  {
   "cell_type": "code",
   "execution_count": 4,
   "metadata": {},
   "outputs": [
    {
     "data": {
      "text/html": [
       "<div>\n",
       "<style scoped>\n",
       "    .dataframe tbody tr th:only-of-type {\n",
       "        vertical-align: middle;\n",
       "    }\n",
       "\n",
       "    .dataframe tbody tr th {\n",
       "        vertical-align: top;\n",
       "    }\n",
       "\n",
       "    .dataframe thead th {\n",
       "        text-align: right;\n",
       "    }\n",
       "</style>\n",
       "<table border=\"1\" class=\"dataframe\">\n",
       "  <thead>\n",
       "    <tr style=\"text-align: right;\">\n",
       "      <th></th>\n",
       "      <th>Fiscal Year Released</th>\n",
       "      <th>Recidivism Reporting Year</th>\n",
       "      <th>Race - Ethnicity</th>\n",
       "      <th>Age At Release</th>\n",
       "      <th>Convicting Offense Classification</th>\n",
       "      <th>Convicting Offense Type</th>\n",
       "      <th>Convicting Offense Subtype</th>\n",
       "      <th>Main Supervising District</th>\n",
       "      <th>Release Type</th>\n",
       "      <th>Part of Target Population</th>\n",
       "      <th>Recidivism - Return to Prison numeric</th>\n",
       "    </tr>\n",
       "  </thead>\n",
       "  <tbody>\n",
       "    <tr>\n",
       "      <th>0</th>\n",
       "      <td>2010</td>\n",
       "      <td>2013</td>\n",
       "      <td>White</td>\n",
       "      <td>&lt;45</td>\n",
       "      <td>D Felony</td>\n",
       "      <td>Violent</td>\n",
       "      <td>Other</td>\n",
       "      <td>3JD</td>\n",
       "      <td>Parole</td>\n",
       "      <td>Yes</td>\n",
       "      <td>1</td>\n",
       "    </tr>\n",
       "    <tr>\n",
       "      <th>1</th>\n",
       "      <td>2010</td>\n",
       "      <td>2013</td>\n",
       "      <td>White</td>\n",
       "      <td>&gt;45</td>\n",
       "      <td>D Felony</td>\n",
       "      <td>Other</td>\n",
       "      <td>Other</td>\n",
       "      <td>3JD</td>\n",
       "      <td>Parole</td>\n",
       "      <td>Yes</td>\n",
       "      <td>1</td>\n",
       "    </tr>\n",
       "    <tr>\n",
       "      <th>2</th>\n",
       "      <td>2010</td>\n",
       "      <td>2013</td>\n",
       "      <td>White</td>\n",
       "      <td>&lt;45</td>\n",
       "      <td>D Felony</td>\n",
       "      <td>Other</td>\n",
       "      <td>Other</td>\n",
       "      <td>5JD</td>\n",
       "      <td>Parole</td>\n",
       "      <td>Yes</td>\n",
       "      <td>1</td>\n",
       "    </tr>\n",
       "    <tr>\n",
       "      <th>3</th>\n",
       "      <td>2010</td>\n",
       "      <td>2013</td>\n",
       "      <td>White</td>\n",
       "      <td>&gt;45</td>\n",
       "      <td>Other Felony</td>\n",
       "      <td>Drug</td>\n",
       "      <td>Trafficking</td>\n",
       "      <td>3JD</td>\n",
       "      <td>Parole</td>\n",
       "      <td>Yes</td>\n",
       "      <td>1</td>\n",
       "    </tr>\n",
       "    <tr>\n",
       "      <th>4</th>\n",
       "      <td>2010</td>\n",
       "      <td>2013</td>\n",
       "      <td>Black</td>\n",
       "      <td>&lt;45</td>\n",
       "      <td>D Felony</td>\n",
       "      <td>Drug</td>\n",
       "      <td>Trafficking</td>\n",
       "      <td>3JD</td>\n",
       "      <td>Parole</td>\n",
       "      <td>Yes</td>\n",
       "      <td>1</td>\n",
       "    </tr>\n",
       "  </tbody>\n",
       "</table>\n",
       "</div>"
      ],
      "text/plain": [
       "   Fiscal Year Released  Recidivism Reporting Year Race - Ethnicity  \\\n",
       "0                  2010                       2013            White   \n",
       "1                  2010                       2013            White   \n",
       "2                  2010                       2013            White   \n",
       "3                  2010                       2013            White   \n",
       "4                  2010                       2013            Black   \n",
       "\n",
       "  Age At Release Convicting Offense Classification Convicting Offense Type  \\\n",
       "0            <45                          D Felony                 Violent   \n",
       "1            >45                          D Felony                   Other   \n",
       "2            <45                          D Felony                   Other   \n",
       "3            >45                      Other Felony                    Drug   \n",
       "4            <45                          D Felony                    Drug   \n",
       "\n",
       "  Convicting Offense Subtype Main Supervising District Release Type  \\\n",
       "0                      Other                       3JD       Parole   \n",
       "1                      Other                       3JD       Parole   \n",
       "2                      Other                       5JD       Parole   \n",
       "3                Trafficking                       3JD       Parole   \n",
       "4                Trafficking                       3JD       Parole   \n",
       "\n",
       "  Part of Target Population  Recidivism - Return to Prison numeric  \n",
       "0                       Yes                                      1  \n",
       "1                       Yes                                      1  \n",
       "2                       Yes                                      1  \n",
       "3                       Yes                                      1  \n",
       "4                       Yes                                      1  "
      ]
     },
     "execution_count": 4,
     "metadata": {},
     "output_type": "execute_result"
    }
   ],
   "source": [
    "df.head()"
   ]
  },
  {
   "cell_type": "code",
   "execution_count": 5,
   "metadata": {},
   "outputs": [
    {
     "name": "stdout",
     "output_type": "stream",
     "text": [
      "Fiscal Year Released [2010 2013 2015]\n",
      "Recidivism Reporting Year [2013 2016 2018]\n",
      "Race - Ethnicity ['White' 'Black']\n",
      "Age At Release ['<45' '>45']\n",
      "Convicting Offense Classification ['D Felony' 'Other Felony']\n",
      "Convicting Offense Type ['Violent' 'Other' 'Drug']\n",
      "Convicting Offense Subtype ['Other' 'Trafficking']\n",
      "Main Supervising District ['3JD' '5JD']\n",
      "Release Type ['Parole' 'Discharged End of Sentence']\n",
      "Part of Target Population ['Yes' 'No']\n",
      "Recidivism - Return to Prison numeric [1 0]\n"
     ]
    }
   ],
   "source": [
    "for col in df:\n",
    "    print (col, df[col].unique())"
   ]
  },
  {
   "cell_type": "markdown",
   "metadata": {},
   "source": [
    "## Spliting Data to test and train"
   ]
  },
  {
   "cell_type": "code",
   "execution_count": 6,
   "metadata": {},
   "outputs": [],
   "source": [
    "def train_test(data, ratio):\n",
    "    data = data.sample(frac=1).reset_index(drop=True)\n",
    "    n = data.shape[0]\n",
    "    test = data.iloc[:int(n*ratio), :]\n",
    "    train = data.iloc[int(n*ratio):n, :]\n",
    "    return test, train "
   ]
  },
  {
   "cell_type": "markdown",
   "metadata": {},
   "source": [
    "## ID3 Algorithm"
   ]
  },
  {
   "cell_type": "code",
   "execution_count": 7,
   "metadata": {},
   "outputs": [],
   "source": [
    "def entropy(s):\n",
    "    p = s.groupby('Target').size() / s.shape[0]\n",
    "    ent = p*np.log2(p)\n",
    "    return  -ent.sum()"
   ]
  },
  {
   "cell_type": "code",
   "execution_count": 8,
   "metadata": {},
   "outputs": [],
   "source": [
    "def InformationGain(s, attribute):\n",
    "    grouped = s.groupby(attribute)\n",
    "    ig = grouped.size() / s.shape[0] * grouped.apply(lambda g : entropy(g))\n",
    "    return entropy(s) - ig.sum()"
   ]
  },
  {
   "cell_type": "code",
   "execution_count": 9,
   "metadata": {},
   "outputs": [],
   "source": [
    "def find_root(s):\n",
    "    attributes = s.drop(['Target'], axis=1)\n",
    "    return attributes.apply(lambda col: InformationGain(s, col)).idxmax()"
   ]
  },
  {
   "cell_type": "code",
   "execution_count": 10,
   "metadata": {},
   "outputs": [],
   "source": [
    "def ID3(s, depth, tree=None):\n",
    "    \n",
    "    root = find_root(s)\n",
    "    branches = s[root].unique()\n",
    "\n",
    "    if tree is None:\n",
    "        tree={}\n",
    "        tree[root] = {}    \n",
    "    \n",
    "    for child in branches:\n",
    "        split = s[s[root]==child]\n",
    "        \n",
    "        if((depth==1) or (s.shape[1]==1) or (len(split['Target'].unique())==1)):\n",
    "            tree[root][child] = split.groupby('Target').size().idxmax()\n",
    "            \n",
    "        else:\n",
    "            tree[root][child] = ID3(split, depth-1)\n",
    "        \n",
    "    return tree"
   ]
  },
  {
   "cell_type": "code",
   "execution_count": 11,
   "metadata": {},
   "outputs": [
    {
     "data": {
      "text/plain": [
       "{'Fiscal Year Released': {2015: {'Release Type': {'Parole': {'Age At Release': {'>45': 0,\n",
       "      '<45': 0}},\n",
       "    'Discharged End of Sentence': {'Main Supervising District': {'5JD': 0,\n",
       "      '3JD': 0}}}},\n",
       "  2013: {'Age At Release': {'<45': {'Main Supervising District': {'3JD': 1,\n",
       "      '5JD': 1}},\n",
       "    '>45': {'Convicting Offense Type': {'Other': 1,\n",
       "      'Drug': 1,\n",
       "      'Violent': 1}}}},\n",
       "  2010: 1}}"
      ]
     },
     "execution_count": 11,
     "metadata": {},
     "output_type": "execute_result"
    }
   ],
   "source": [
    "df.rename(columns = {\"Recidivism - Return to Prison numeric\": \"Target\"}, inplace= True)\n",
    "test_data, train_data = train_test(df, 0.2)\n",
    "decision_tree = ID3(train_data, 3)\n",
    "decision_tree"
   ]
  },
  {
   "cell_type": "code",
   "execution_count": 12,
   "metadata": {},
   "outputs": [],
   "source": [
    "def ID3_predict(data, tree, attribute, predict=list()):\n",
    "    for key in tree[attribute].keys():\n",
    "        if (type(tree[attribute][key]) == dict):\n",
    "             ID3_predict(data[data[attribute]==key], tree[attribute][key], list(tree[attribute][key].keys())[0], predict)\n",
    "        else:\n",
    "            predict.append((data[data[attribute]==key].index, tree[attribute][key]))\n",
    "    \n",
    "    return predict"
   ]
  },
  {
   "cell_type": "code",
   "execution_count": 13,
   "metadata": {},
   "outputs": [],
   "source": [
    "pred =[]\n",
    "test_data['predict'] = 3\n",
    "root = find_root(train_data)\n",
    "pred = ID3_predict(test_data, decision_tree, root , pred)\n",
    "for idx, label in pred:\n",
    "    test_data.loc[idx, 'predict'] = label"
   ]
  },
  {
   "cell_type": "code",
   "execution_count": 14,
   "metadata": {},
   "outputs": [],
   "source": [
    "def confusion_matrix(data, predict, target):\n",
    "    TP = data[(data[predict] == data[target]) & (data[target]==1)].shape[0]\n",
    "    TN = data[(data[predict] == data[target]) & (data[target]==0)].shape[0]\n",
    "    FP = data[(data[predict] != data[target]) & (data[target]==0)].shape[0]\n",
    "    FN = data[(data[predict] != data[target]) & (data[target]==1)].shape[0]\n",
    "    \n",
    "    matrix = pd.DataFrame(np.array([[TP,FP],[FN, TN]]),index=['Positive', 'Negetive'], columns=['Positive', 'Negetive'])\n",
    "    \n",
    "    return matrix"
   ]
  },
  {
   "cell_type": "markdown",
   "metadata": {},
   "source": [
    "### Confusion Matrix and Accuracy for ID3 "
   ]
  },
  {
   "cell_type": "code",
   "execution_count": 15,
   "metadata": {},
   "outputs": [
    {
     "data": {
      "text/html": [
       "<div>\n",
       "<style scoped>\n",
       "    .dataframe tbody tr th:only-of-type {\n",
       "        vertical-align: middle;\n",
       "    }\n",
       "\n",
       "    .dataframe tbody tr th {\n",
       "        vertical-align: top;\n",
       "    }\n",
       "\n",
       "    .dataframe thead th {\n",
       "        text-align: right;\n",
       "    }\n",
       "</style>\n",
       "<table border=\"1\" class=\"dataframe\">\n",
       "  <thead>\n",
       "    <tr style=\"text-align: right;\">\n",
       "      <th></th>\n",
       "      <th>Positive</th>\n",
       "      <th>Negetive</th>\n",
       "    </tr>\n",
       "  </thead>\n",
       "  <tbody>\n",
       "    <tr>\n",
       "      <th>Positive</th>\n",
       "      <td>1078</td>\n",
       "      <td>219</td>\n",
       "    </tr>\n",
       "    <tr>\n",
       "      <th>Negetive</th>\n",
       "      <td>630</td>\n",
       "      <td>1157</td>\n",
       "    </tr>\n",
       "  </tbody>\n",
       "</table>\n",
       "</div>"
      ],
      "text/plain": [
       "          Positive  Negetive\n",
       "Positive      1078       219\n",
       "Negetive       630      1157"
      ]
     },
     "execution_count": 15,
     "metadata": {},
     "output_type": "execute_result"
    }
   ],
   "source": [
    "m = confusion_matrix(test_data, 'predict', 'Target')\n",
    "m"
   ]
  },
  {
   "cell_type": "code",
   "execution_count": 17,
   "metadata": {},
   "outputs": [],
   "source": [
    "def accuracy (matrix):\n",
    "    return (matrix['Positive']['Positive'] + matrix['Negetive']['Negetive']) / (matrix.sum()).sum()"
   ]
  },
  {
   "cell_type": "code",
   "execution_count": 18,
   "metadata": {},
   "outputs": [
    {
     "data": {
      "text/plain": [
       "0.7247081712062257"
      ]
     },
     "execution_count": 18,
     "metadata": {},
     "output_type": "execute_result"
    }
   ],
   "source": [
    "accuracy(m)"
   ]
  },
  {
   "cell_type": "markdown",
   "metadata": {},
   "source": [
    "## Random Forest"
   ]
  },
  {
   "cell_type": "code",
   "execution_count": 1,
   "metadata": {},
   "outputs": [],
   "source": [
    "def Random_Forest(data, test_data, N):\n",
    "    \n",
    "    test_data['Votes'] = 0\n",
    "    \n",
    "    for i in range(0,N):\n",
    "        resample = data.drop('Target', axis=1).sample(frac=0.35, axis=1)\n",
    "        resample['Target'] = data['Target']\n",
    "        resample = resample.sample(frac=0.2)\n",
    "        \n",
    "        decision_tree = ID3(resample, 3)\n",
    "        root = find_root(resample)\n",
    "        predict = ID3_predict(test_data, decision_tree, root)\n",
    "        test_data['resample_predict'] = 3\n",
    "        \n",
    "        for idx, label in predict:\n",
    "            test_data.loc[idx, 'resample_predict'] = label  \n",
    "        \n",
    "        test_data['Votes'] += test_data['resample_predict']\n",
    "        \n",
    "    test_data['Forest_predict'].loc[test_data['Votes']>(N/2)] = 1\n",
    "    test_data['Forest_predict'].loc[test_data['Votes']<=(N/2)] = 0\n",
    "    \n",
    "    return test_data"
   ]
  },
  {
   "cell_type": "code",
   "execution_count": null,
   "metadata": {},
   "outputs": [],
   "source": [
    "test_data['Forest_predict'] = 3\n",
    "test = Random_Forest(train_data, test_data, 11)"
   ]
  },
  {
   "cell_type": "markdown",
   "metadata": {},
   "source": [
    "### Confusion Matrix and Accuracy for RandomForest"
   ]
  },
  {
   "cell_type": "code",
   "execution_count": 21,
   "metadata": {},
   "outputs": [
    {
     "data": {
      "text/html": [
       "<div>\n",
       "<style scoped>\n",
       "    .dataframe tbody tr th:only-of-type {\n",
       "        vertical-align: middle;\n",
       "    }\n",
       "\n",
       "    .dataframe tbody tr th {\n",
       "        vertical-align: top;\n",
       "    }\n",
       "\n",
       "    .dataframe thead th {\n",
       "        text-align: right;\n",
       "    }\n",
       "</style>\n",
       "<table border=\"1\" class=\"dataframe\">\n",
       "  <thead>\n",
       "    <tr style=\"text-align: right;\">\n",
       "      <th></th>\n",
       "      <th>Positive</th>\n",
       "      <th>Negetive</th>\n",
       "    </tr>\n",
       "  </thead>\n",
       "  <tbody>\n",
       "    <tr>\n",
       "      <th>Positive</th>\n",
       "      <td>1058</td>\n",
       "      <td>211</td>\n",
       "    </tr>\n",
       "    <tr>\n",
       "      <th>Negetive</th>\n",
       "      <td>643</td>\n",
       "      <td>1172</td>\n",
       "    </tr>\n",
       "  </tbody>\n",
       "</table>\n",
       "</div>"
      ],
      "text/plain": [
       "          Positive  Negetive\n",
       "Positive      1058       211\n",
       "Negetive       643      1172"
      ]
     },
     "execution_count": 21,
     "metadata": {},
     "output_type": "execute_result"
    }
   ],
   "source": [
    "m = confusion_matrix(test, 'Forest_predict', 'Target')\n",
    "m"
   ]
  },
  {
   "cell_type": "code",
   "execution_count": 22,
   "metadata": {},
   "outputs": [
    {
     "data": {
      "text/plain": [
       "0.7230869001297017"
      ]
     },
     "execution_count": 22,
     "metadata": {},
     "output_type": "execute_result"
    }
   ],
   "source": [
    "accuracy(m)"
   ]
  },
  {
   "cell_type": "markdown",
   "metadata": {},
   "source": [
    "## Implementing ID3 with sklearn"
   ]
  },
  {
   "cell_type": "code",
   "execution_count": 23,
   "metadata": {},
   "outputs": [
    {
     "data": {
      "text/plain": [
       "array([[1127,  238],\n",
       "       [ 572, 1148]])"
      ]
     },
     "execution_count": 23,
     "metadata": {},
     "output_type": "execute_result"
    }
   ],
   "source": [
    "from sklearn.ensemble import RandomForestClassifier\n",
    "from sklearn.model_selection import train_test_split\n",
    "from sklearn.metrics import accuracy_score\n",
    "from sklearn.preprocessing import LabelEncoder\n",
    "from sklearn.metrics import confusion_matrix\n",
    "\n",
    "X_train, X_test, y_train, y_test = train_test_split(df.iloc[:,0:10], df.iloc[:,-1], test_size=0.2)\n",
    "\n",
    "columns = X_train.columns.tolist()\n",
    "for col in columns:\n",
    "    if X_train.dtypes[col] == np.object:\n",
    "        X_train[col] = LabelEncoder().fit_transform(X_train[col])\n",
    "        X_test[col] = LabelEncoder().fit_transform(X_test[col])\n",
    "        \n",
    "model = RandomForestClassifier(max_depth=3, random_state=0)\n",
    "model.fit(X_train, y_train)\n",
    "y_pred = model.predict(X_test)\n",
    "\n",
    "confusion_matrix(y_test, y_pred)"
   ]
  },
  {
   "cell_type": "code",
   "execution_count": 24,
   "metadata": {},
   "outputs": [
    {
     "data": {
      "text/plain": [
       "0.7374392220421394"
      ]
     },
     "execution_count": 24,
     "metadata": {},
     "output_type": "execute_result"
    }
   ],
   "source": [
    "from sklearn.metrics import accuracy_score\n",
    "accuracy_score(y_test, y_pred)"
   ]
  }
 ],
 "metadata": {
  "kernelspec": {
   "display_name": "Python 3",
   "language": "python",
   "name": "python3"
  },
  "language_info": {
   "codemirror_mode": {
    "name": "ipython",
    "version": 3
   },
   "file_extension": ".py",
   "mimetype": "text/x-python",
   "name": "python",
   "nbconvert_exporter": "python",
   "pygments_lexer": "ipython3",
   "version": "3.6.9"
  }
 },
 "nbformat": 4,
 "nbformat_minor": 4
}

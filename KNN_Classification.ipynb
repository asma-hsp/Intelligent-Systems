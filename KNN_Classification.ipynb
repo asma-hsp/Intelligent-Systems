{
 "cells": [
  {
   "cell_type": "code",
   "execution_count": 1,
   "metadata": {},
   "outputs": [],
   "source": [
    "%matplotlib inline\n",
    "import pandas as pd\n",
    "import numpy as np\n",
    "import matplotlib.pyplot as plt\n",
    "import math\n",
    "import statistics "
   ]
  },
  {
   "cell_type": "code",
   "execution_count": 2,
   "metadata": {},
   "outputs": [],
   "source": [
    "x_train_data = pd.read_csv('/home/asma/Documents/Intelligent Systems/Question 4/train_data.csv', header=None)\n",
    "x_test_data = pd.read_csv('/home/asma/Documents/Intelligent Systems/Question 4/test_data.csv', header=None)\n",
    "y_train_data = pd.read_csv('/home/asma/Documents/Intelligent Systems/Question 4/train_labels.csv', header=None)\n",
    "y_test_data = pd.read_csv('/home/asma/Documents/Intelligent Systems/Question 4/test_labels.csv', header=None)"
   ]
  },
  {
   "cell_type": "code",
   "execution_count": 3,
   "metadata": {},
   "outputs": [],
   "source": [
    "y_train_data.rename(columns = {0:'label'}, inplace = True)\n",
    "y_test_data.rename(columns = {0:'label'}, inplace = True)"
   ]
  },
  {
   "cell_type": "code",
   "execution_count": 1,
   "metadata": {},
   "outputs": [
    {
     "data": {
      "text/plain": [
       "100"
      ]
     },
     "execution_count": 1,
     "metadata": {},
     "output_type": "execute_result"
    }
   ],
   "source": [
    "w = 0\n",
    "for i in range(10):\n",
    "    for j in range(10):\n",
    "        w =w+1\n",
    "w        "
   ]
  },
  {
   "cell_type": "code",
   "execution_count": 4,
   "metadata": {},
   "outputs": [
    {
     "name": "stdout",
     "output_type": "stream",
     "text": [
      "(10000, 182)\n",
      "(10000, 1)\n",
      "(3500, 182)\n",
      "(3500, 1)\n"
     ]
    }
   ],
   "source": [
    "print(x_train_data.shape)\n",
    "print(y_train_data.shape)\n",
    "print(x_test_data.shape)\n",
    "print(y_test_data.shape)"
   ]
  },
  {
   "cell_type": "code",
   "execution_count": 5,
   "metadata": {},
   "outputs": [
    {
     "data": {
      "text/plain": [
       "label    10\n",
       "dtype: int64"
      ]
     },
     "execution_count": 5,
     "metadata": {},
     "output_type": "execute_result"
    }
   ],
   "source": [
    "y_train_data.nunique()"
   ]
  },
  {
   "cell_type": "code",
   "execution_count": 6,
   "metadata": {},
   "outputs": [
    {
     "data": {
      "text/plain": [
       "3.0    375\n",
       "8.0    369\n",
       "2.0    368\n",
       "4.0    365\n",
       "5.0    350\n",
       "1.0    346\n",
       "9.0    345\n",
       "7.0    331\n",
       "0.0    329\n",
       "6.0    322\n",
       "Name: label, dtype: int64"
      ]
     },
     "execution_count": 6,
     "metadata": {},
     "output_type": "execute_result"
    }
   ],
   "source": [
    "y_test_data['label'].value_counts()"
   ]
  },
  {
   "cell_type": "code",
   "execution_count": 120,
   "metadata": {},
   "outputs": [],
   "source": [
    "def KNN(k, test_row, x_train, y_train, meter):\n",
    "    df =  pd.DataFrame()\n",
    "    \n",
    "    if (meter == 'euclidean'):\n",
    "        df['distance'] = ((x_train -test_row)**2).sum(axis=1).apply(lambda x: math.sqrt(x))\n",
    "        \n",
    "    if (meter == 'd1'):\n",
    "        df['distance'] = (x_train - test_row).max(axis=1)\n",
    "    \n",
    "    if (meter == 'd2'):\n",
    "        df['distance'] = (abs(x_train - test_row)).sum(axis=1)\n",
    "    \n",
    "    df['label'] = y_train\n",
    "    df = df.sort_values(by= 'distance')   \n",
    "    neighbours = df[:k]\n",
    "    predicted_class = neighbours.groupby('label').size().idxmax()\n",
    "    \n",
    "    return predicted_class"
   ]
  },
  {
   "cell_type": "code",
   "execution_count": 72,
   "metadata": {},
   "outputs": [],
   "source": [
    "def main(k , x_test, x_train, y_test, y_train, meter): \n",
    "    \n",
    "    y_predict = x_test.apply(lambda row : KNN(k, row, x_train, y_train, meter), axis=1)\n",
    "    predict_df = pd.DataFrame(y_predict, columns={'predicted_class'})\n",
    "    correct = (predict_df['predicted_class'] == y_test_data['label'])\n",
    "    \n",
    "    return correct.sum() / len(x_test) * 100"
   ]
  },
  {
   "cell_type": "code",
   "execution_count": 73,
   "metadata": {},
   "outputs": [
    {
     "data": {
      "text/plain": [
       "14.314285714285715"
      ]
     },
     "execution_count": 73,
     "metadata": {},
     "output_type": "execute_result"
    }
   ],
   "source": [
    "main(2, x_test_data, x_train_data, y_test_data, y_train_data, 'euclidean')"
   ]
  },
  {
   "cell_type": "code",
   "execution_count": 77,
   "metadata": {},
   "outputs": [
    {
     "data": {
      "text/plain": [
       "14.399999999999999"
      ]
     },
     "execution_count": 77,
     "metadata": {},
     "output_type": "execute_result"
    }
   ],
   "source": [
    "main(5, x_test_data, x_train_data, y_test_data, y_train_data, 'euclidean')"
   ]
  },
  {
   "cell_type": "code",
   "execution_count": 13,
   "metadata": {},
   "outputs": [
    {
     "data": {
      "text/plain": [
       "13.82857142857143"
      ]
     },
     "execution_count": 13,
     "metadata": {},
     "output_type": "execute_result"
    }
   ],
   "source": [
    "main(10, x_test_data, x_train_data, y_test_data, y_train_data, 'euclidean')"
   ]
  },
  {
   "cell_type": "code",
   "execution_count": 14,
   "metadata": {},
   "outputs": [
    {
     "data": {
      "text/plain": [
       "14.285714285714285"
      ]
     },
     "execution_count": 14,
     "metadata": {},
     "output_type": "execute_result"
    }
   ],
   "source": [
    "main(50, x_test_data, x_train_data, y_test_data, y_train_data, 'euclidean')"
   ]
  },
  {
   "cell_type": "markdown",
   "metadata": {},
   "source": [
    "مشاهد می کنیم که بالاترین دقت در حالتی که تعداد همسایه ها ۵ تا است اتفاق میافتد. زمانی که تعدا همسایه ها ۲ است الگوریتم کلاس را تنها بر اساس دو تا از نزدیک ترین مشاهده ها پیش بینی میکند که ممکن است نویز زیاد داشته باشد و همچنین در خیلی از مواقع ممکن است هر کدام از این دو همسایه کلاس متفاوتی داشته باشند و کلاسی که بیشتر در بین همسایه ها تکرار شده عملن بی معنی خواهد بود. \n",
    "این مشکل برای تمام عددهای زوج دیگر یعنی ۱۰ و ۵۰ نیز پیش خواهد امد. اگر تعداد همسایه ها خیلی زیادنیزباشد دقت مذل کم خواهد بود چون در این حالت نمونه هایی که خیلی دور هم هستند ممکن است در نظر گرفته شوند.\n",
    "همچنین مشاهده میشود که دقت مدل بسیار پایین است. حدس زده میشود این مشکل به دلیل بازه های بسیار متفاوت مقدارهای داده شده است و با نرمال کردن داده ها یعنی بردن تمام داده ها به بازه ی ۰ .و ۱ این مشکل حل شود.\n"
   ]
  },
  {
   "cell_type": "code",
   "execution_count": 52,
   "metadata": {},
   "outputs": [],
   "source": [
    "def normalize(df):\n",
    "    return (df - df.min())/(df.max() - df.min())"
   ]
  },
  {
   "cell_type": "code",
   "execution_count": 74,
   "metadata": {},
   "outputs": [
    {
     "data": {
      "text/plain": [
       "73.68571428571428"
      ]
     },
     "execution_count": 74,
     "metadata": {},
     "output_type": "execute_result"
    }
   ],
   "source": [
    "main(2, normalize(x_test_data), normalize(x_train_data), y_test_data, y_train_data, 'euclidean')"
   ]
  },
  {
   "cell_type": "code",
   "execution_count": 75,
   "metadata": {},
   "outputs": [
    {
     "data": {
      "text/plain": [
       "76.14285714285714"
      ]
     },
     "execution_count": 75,
     "metadata": {},
     "output_type": "execute_result"
    }
   ],
   "source": [
    "main(5, normalize(x_test_data), normalize(x_train_data), y_test_data, y_train_data, 'euclidean')"
   ]
  },
  {
   "cell_type": "code",
   "execution_count": 76,
   "metadata": {},
   "outputs": [
    {
     "data": {
      "text/plain": [
       "74.45714285714286"
      ]
     },
     "execution_count": 76,
     "metadata": {},
     "output_type": "execute_result"
    }
   ],
   "source": [
    "main(10, normalize(x_test_data), normalize(x_train_data), y_test_data, y_train_data, 'euclidean')"
   ]
  },
  {
   "cell_type": "code",
   "execution_count": 78,
   "metadata": {},
   "outputs": [
    {
     "data": {
      "text/plain": [
       "68.28571428571428"
      ]
     },
     "execution_count": 78,
     "metadata": {},
     "output_type": "execute_result"
    }
   ],
   "source": [
    "main(50, normalize(x_test_data), normalize(x_train_data), y_test_data, y_train_data, 'euclidean')"
   ]
  },
  {
   "cell_type": "markdown",
   "metadata": {},
   "source": [
    "مشاهده میشود که با نرمال کردن مقادیر داده ها دقت مدل به طرز قابل توجهی افزایش میابد و همچنان بهترین دقت در حالتی که تعداد همسایه ها ۵ تا باشد رخ میدهد."
   ]
  },
  {
   "cell_type": "code",
   "execution_count": 121,
   "metadata": {},
   "outputs": [
    {
     "data": {
      "text/plain": [
       "49.25714285714285"
      ]
     },
     "execution_count": 121,
     "metadata": {},
     "output_type": "execute_result"
    }
   ],
   "source": [
    "main(5, normalize(x_test_data), normalize(x_train_data), y_test_data, y_train_data, 'd1')"
   ]
  },
  {
   "cell_type": "code",
   "execution_count": 122,
   "metadata": {},
   "outputs": [
    {
     "data": {
      "text/plain": [
       "78.97142857142858"
      ]
     },
     "execution_count": 122,
     "metadata": {},
     "output_type": "execute_result"
    }
   ],
   "source": [
    "main(5, normalize(x_test_data), normalize(x_train_data), y_test_data, y_train_data, 'd2')"
   ]
  },
  {
   "cell_type": "markdown",
   "metadata": {},
   "source": [
    "با استفاده از معیار د۱ دقت مدل بسیار کاهش میباد اما استفاده از نرم ۱ یا همان معیار ۲ دقت از نرم ۲ یا همان فاصله ی اقلیدسی اندکی بیشتر میشود"
   ]
  },
  {
   "cell_type": "code",
   "execution_count": null,
   "metadata": {},
   "outputs": [],
   "source": []
  }
 ],
 "metadata": {
  "kernelspec": {
   "display_name": "Python 3",
   "language": "python",
   "name": "python3"
  },
  "language_info": {
   "codemirror_mode": {
    "name": "ipython",
    "version": 3
   },
   "file_extension": ".py",
   "mimetype": "text/x-python",
   "name": "python",
   "nbconvert_exporter": "python",
   "pygments_lexer": "ipython3",
   "version": "3.6.9"
  }
 },
 "nbformat": 4,
 "nbformat_minor": 4
}

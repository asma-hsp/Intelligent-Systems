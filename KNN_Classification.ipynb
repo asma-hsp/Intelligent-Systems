{
 "cells": [
  {
   "cell_type": "code",
   "execution_count": 7,
   "id": "b4281010-ecdc-43aa-ae00-18b014ce7643",
   "metadata": {},
   "outputs": [],
   "source": [
    "%matplotlib inline\n",
    "import pandas as pd\n",
    "import numpy as np\n",
    "import matplotlib.pyplot as plt\n",
    "import math\n",
    "import statistics "
   ]
  },
  {
   "cell_type": "code",
   "execution_count": null,
   "id": "214d26b9-2c75-4fca-86b2-4db9ba9f7220",
   "metadata": {},
   "outputs": [],
   "source": [
    "x_train_data = pd.read_csv('/home/asma/Documents/Intelligent Systems/Question 4/train_data.csv', header=None)\n",
    "x_test_data = pd.read_csv('/home/asma/Documents/Intelligent Systems/Question 4/test_data.csv', header=None)\n",
    "y_train_data = pd.read_csv('/home/asma/Documents/Intelligent Systems/Question 4/train_labels.csv', header=None)\n",
    "y_test_data = pd.read_csv('/home/asma/Documents/Intelligent Systems/Question 4/test_labels.csv', header=None)"
   ]
  },
  {
   "cell_type": "code",
   "execution_count": null,
   "id": "ddb4b55b-7309-49ff-bee2-8f9a63795712",
   "metadata": {},
   "outputs": [],
   "source": [
    "y_train_data.rename(columns = {0:'label'}, inplace = True)\n",
    "y_test_data.rename(columns = {0:'label'}, inplace = True)"
   ]
  },
  {
   "cell_type": "code",
   "execution_count": null,
   "id": "3fd298ed-6aac-499b-aa7d-d871026abc08",
   "metadata": {},
   "outputs": [],
   "source": [
    "print(x_train_data.shape)\n",
    "print(y_train_data.shape)\n",
    "print(x_test_data.shape)\n",
    "print(y_test_data.shape)"
   ]
  },
  {
   "cell_type": "code",
   "execution_count": null,
   "id": "e60bddc8-e20d-4c9d-b807-a31f6731ebd4",
   "metadata": {},
   "outputs": [],
   "source": [
    "y_train_data.nunique()"
   ]
  },
  {
   "cell_type": "code",
   "execution_count": null,
   "id": "ac3ff54f-ca48-44ba-bf59-54bc6639b2d1",
   "metadata": {},
   "outputs": [],
   "source": [
    "y_test_data['label'].value_counts()"
   ]
  },
  {
   "cell_type": "code",
   "execution_count": null,
   "id": "31d8c956-07e7-4c12-bcb1-d8d9b931c871",
   "metadata": {},
   "outputs": [],
   "source": [
    "def KNN(k, test_row, x_train, y_train, meter):\n",
    "    df =  pd.DataFrame()\n",
    "    \n",
    "    if (meter == 'euclidean'):\n",
    "        df['distance'] = ((x_train -test_row)**2).sum(axis=1).apply(lambda x: math.sqrt(x))\n",
    "        \n",
    "    if (meter == 'd1'):\n",
    "        df['distance'] = (x_train - test_row).max(axis=1)\n",
    "    \n",
    "    if (meter == 'd2'):\n",
    "        df['distance'] = (abs(x_train - test_row)).sum(axis=1)\n",
    "    \n",
    "    df['label'] = y_train\n",
    "    df = df.sort_values(by= 'distance')   \n",
    "    neighbours = df[:k]\n",
    "    predicted_class = neighbours.groupby('label').size().idxmax()\n",
    "    \n",
    "    return predicted_class"
   ]
  },
  {
   "cell_type": "code",
   "execution_count": null,
   "id": "c76eadb3-b7c8-45d4-a10d-589f794f02d0",
   "metadata": {},
   "outputs": [],
   "source": [
    "def main(k , x_test, x_train, y_test, y_train, meter): \n",
    "    \n",
    "    y_predict = x_test.apply(lambda row : KNN(k, row, x_train, y_train, meter), axis=1)\n",
    "    predict_df = pd.DataFrame(y_predict, columns={'predicted_class'})\n",
    "    correct = (predict_df['predicted_class'] == y_test_data['label'])\n",
    "    \n",
    "    return correct.sum() / len(x_test) * 100"
   ]
  },
  {
   "cell_type": "code",
   "execution_count": null,
   "id": "85c6c79f-2e36-40a1-88f7-ece371b54e28",
   "metadata": {},
   "outputs": [],
   "source": [
    "main(2, x_test_data, x_train_data, y_test_data, y_train_data, 'euclidean')"
   ]
  },
  {
   "cell_type": "code",
   "execution_count": null,
   "id": "99b73cb4-31d0-4fdb-9161-175d3f9db0fb",
   "metadata": {},
   "outputs": [],
   "source": [
    "main(5, x_test_data, x_train_data, y_test_data, y_train_data, 'euclidean')"
   ]
  },
  {
   "cell_type": "code",
   "execution_count": null,
   "id": "7db92197-4f3e-4b88-a93d-44f3b4b2e160",
   "metadata": {},
   "outputs": [],
   "source": [
    "main(10, x_test_data, x_train_data, y_test_data, y_train_data, 'euclidean')"
   ]
  },
  {
   "cell_type": "code",
   "execution_count": null,
   "id": "f46769fd-b00c-4e80-8be1-79fbe2a3ea34",
   "metadata": {},
   "outputs": [],
   "source": [
    "main(50, x_test_data, x_train_data, y_test_data, y_train_data, 'euclidean')"
   ]
  },
  {
   "cell_type": "code",
   "execution_count": null,
   "id": "83369965-d314-4f83-ab49-f3faa507ccd6",
   "metadata": {},
   "outputs": [],
   "source": [
    "def normalize(df):\n",
    "    return (df - df.min())/(df.max() - df.min())"
   ]
  },
  {
   "cell_type": "code",
   "execution_count": null,
   "id": "a86709b2-d403-4bdf-a3a7-017a0b81f276",
   "metadata": {},
   "outputs": [],
   "source": [
    "main(2, normalize(x_test_data), normalize(x_train_data), y_test_data, y_train_data, 'euclidean')"
   ]
  },
  {
   "cell_type": "code",
   "execution_count": null,
   "id": "98aa67f8-2fbd-4b2c-a3b8-b4b88f3c4523",
   "metadata": {},
   "outputs": [],
   "source": [
    "main(5, normalize(x_test_data), normalize(x_train_data), y_test_data, y_train_data, 'euclidean')"
   ]
  },
  {
   "cell_type": "code",
   "execution_count": null,
   "id": "376cc2ba-84a7-4e72-a48d-e881bd1337af",
   "metadata": {},
   "outputs": [],
   "source": [
    "main(5, normalize(x_test_data), normalize(x_train_data), y_test_data, y_train_data, 'euclidean')"
   ]
  },
  {
   "cell_type": "code",
   "execution_count": null,
   "id": "a9fa6c8b-8504-4d91-ad4d-3e1542a78eee",
   "metadata": {},
   "outputs": [],
   "source": [
    "main(50, normalize(x_test_data), normalize(x_train_data), y_test_data, y_train_data, 'euclidean')"
   ]
  }
 ],
 "metadata": {
  "kernelspec": {
   "display_name": "Python 3 (ipykernel)",
   "language": "python",
   "name": "python3"
  },
  "language_info": {
   "codemirror_mode": {
    "name": "ipython",
    "version": 3
   },
   "file_extension": ".py",
   "mimetype": "text/x-python",
   "name": "python",
   "nbconvert_exporter": "python",
   "pygments_lexer": "ipython3",
   "version": "3.7.12"
  }
 },
 "nbformat": 4,
 "nbformat_minor": 5
}
